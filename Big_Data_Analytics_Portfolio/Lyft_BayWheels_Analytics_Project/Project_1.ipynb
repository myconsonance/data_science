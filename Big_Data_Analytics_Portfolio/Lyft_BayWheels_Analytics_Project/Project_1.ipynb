{
 "cells": [
  {
   "cell_type": "markdown",
   "metadata": {},
   "source": [
    "## Joshua Lin\n",
    "# Project 1 Report: Lyft Bay Wheels Analysis"
   ]
  },
  {
   "cell_type": "code",
   "execution_count": 1,
   "metadata": {},
   "outputs": [],
   "source": [
    "import pandas as pd\n",
    "import matplotlib.pyplot as plt\n",
    "import datetime"
   ]
  },
  {
   "cell_type": "markdown",
   "metadata": {},
   "source": [
    "## Motivating Questions"
   ]
  },
  {
   "cell_type": "markdown",
   "metadata": {},
   "source": [
    "### 1. What are the 5 most popular 'commuter trips'?"
   ]
  },
  {
   "cell_type": "markdown",
   "metadata": {},
   "source": [
    "Based on my analysis, I found that the 5 most popular commuter trips are as follows:\n",
    "* San Francisco Caltrain 2 (330 Townsend) to Townsend at 7th\n",
    "* Harry Bridges Plaza (Ferry Building) to Embarcadero at Sansome\n",
    "* 2nd at Townsend to Harry Bridges Plaza (Ferry Building)\n",
    "* Townsend at 7th San Francisco Caltrain 2 (330 Townsend)\n",
    "* Embarcadero at Sansome to Steuart at Market\n",
    "\n",
    "Out of all these 5 trips, however, it looks like many bikers bike from the SF Caltrain 2 station to Townsend at 7th and back many times throughout the week, making it <b> the most popular <b> commuter round trip."
   ]
  },
  {
   "cell_type": "markdown",
   "metadata": {},
   "source": [
    "#### Evidence: What makes a trip a 'popular commuter trip'?"
   ]
  },
  {
   "cell_type": "markdown",
   "metadata": {},
   "source": [
    "To find the <b> top 5 </b> commuter trips, I looked at the number of trips that occurred where the start and end stations were different, as well as trips that occurred only on weekdays. I only looked at trips with different start and end stations, since these trips would likely be ones where individuals are biking from home or a CalTrain or BART station to a station by their company office. Meanwhile, I only considered weekdays, because I wanted to look at trips that only occurred during a typical work week. Trips on weekends would likely be for leisure and errands rather than commutes."
   ]
  },
  {
   "cell_type": "code",
   "execution_count": 2,
   "metadata": {},
   "outputs": [
    {
     "name": "stdout",
     "output_type": "stream",
     "text": [
      "Waiting on bqjob_r32738e4174239c71_00000174dd23c6f8_1 ... (0s) Current status: DONE   \n"
     ]
    }
   ],
   "source": [
    "! bq query --use_legacy_sql=FALSE --format=csv 'SELECT start_station_name, end_station_name, count(*) AS number_of_trips FROM `bike_trip_data.trip_start_end_times` WHERE start_station_name <> end_station_name AND dow_weekday = \"Weekday\" GROUP BY start_station_name, end_station_name HAVING number_of_trips > 100 ORDER BY 3 desc, 1, 2' > commuter_trips.csv"
   ]
  },
  {
   "cell_type": "code",
   "execution_count": 3,
   "metadata": {},
   "outputs": [
    {
     "data": {
      "text/html": [
       "<div>\n",
       "<style scoped>\n",
       "    .dataframe tbody tr th:only-of-type {\n",
       "        vertical-align: middle;\n",
       "    }\n",
       "\n",
       "    .dataframe tbody tr th {\n",
       "        vertical-align: top;\n",
       "    }\n",
       "\n",
       "    .dataframe thead th {\n",
       "        text-align: right;\n",
       "    }\n",
       "</style>\n",
       "<table border=\"1\" class=\"dataframe\">\n",
       "  <thead>\n",
       "    <tr style=\"text-align: right;\">\n",
       "      <th></th>\n",
       "      <th>start_station_name</th>\n",
       "      <th>end_station_name</th>\n",
       "      <th>number_of_trips</th>\n",
       "    </tr>\n",
       "  </thead>\n",
       "  <tbody>\n",
       "    <tr>\n",
       "      <th>0</th>\n",
       "      <td>San Francisco Caltrain 2 (330 Townsend)</td>\n",
       "      <td>Townsend at 7th</td>\n",
       "      <td>8048</td>\n",
       "    </tr>\n",
       "    <tr>\n",
       "      <th>1</th>\n",
       "      <td>Harry Bridges Plaza (Ferry Building)</td>\n",
       "      <td>Embarcadero at Sansome</td>\n",
       "      <td>7072</td>\n",
       "    </tr>\n",
       "    <tr>\n",
       "      <th>2</th>\n",
       "      <td>2nd at Townsend</td>\n",
       "      <td>Harry Bridges Plaza (Ferry Building)</td>\n",
       "      <td>7043</td>\n",
       "    </tr>\n",
       "    <tr>\n",
       "      <th>3</th>\n",
       "      <td>Townsend at 7th</td>\n",
       "      <td>San Francisco Caltrain 2 (330 Townsend)</td>\n",
       "      <td>6471</td>\n",
       "    </tr>\n",
       "    <tr>\n",
       "      <th>4</th>\n",
       "      <td>Embarcadero at Sansome</td>\n",
       "      <td>Steuart at Market</td>\n",
       "      <td>6419</td>\n",
       "    </tr>\n",
       "  </tbody>\n",
       "</table>\n",
       "</div>"
      ],
      "text/plain": [
       "                        start_station_name  \\\n",
       "0  San Francisco Caltrain 2 (330 Townsend)   \n",
       "1     Harry Bridges Plaza (Ferry Building)   \n",
       "2                          2nd at Townsend   \n",
       "3                          Townsend at 7th   \n",
       "4                   Embarcadero at Sansome   \n",
       "\n",
       "                          end_station_name  number_of_trips  \n",
       "0                          Townsend at 7th             8048  \n",
       "1                   Embarcadero at Sansome             7072  \n",
       "2     Harry Bridges Plaza (Ferry Building)             7043  \n",
       "3  San Francisco Caltrain 2 (330 Townsend)             6471  \n",
       "4                        Steuart at Market             6419  "
      ]
     },
     "execution_count": 3,
     "metadata": {},
     "output_type": "execute_result"
    }
   ],
   "source": [
    "commuter_trips = pd.read_csv('commuter_trips.csv')\n",
    "top_five_trips = commuter_trips.head()\n",
    "top_five_trips"
   ]
  },
  {
   "cell_type": "code",
   "execution_count": 4,
   "metadata": {},
   "outputs": [
    {
     "data": {
      "image/png": "[encoded data removed]",
      "text/plain": [
       "<Figure size 432x288 with 1 Axes>"
      ]
     },
     "metadata": {
      "needs_background": "light"
     },
     "output_type": "display_data"
    }
   ],
   "source": [
    "trips_plot = plt.figure()\n",
    "ax = trips_plot.add_axes([0,0,1,1])\n",
    "trips = ['SF Caltrain to Townsend', 'Harry Bridges Plaza to Embarcadero', '2nd at Townsend to Harry Bridges Plaza',\n",
    "         'Townsend at 7th to SF Caltrain', 'Embarcadero to Steuart at Market']\n",
    "trip_num = top_five_trips.number_of_trips\n",
    "ax.barh(trips,trip_num, color=['goldenrod', 'darkorange', 'navajowhite', 'lemonchiffon', 'oldlace'])\n",
    "plt.xlabel('Number of Trips')\n",
    "plt.title('Top 5 Commuter Trips')\n",
    "plt.show()"
   ]
  },
  {
   "cell_type": "markdown",
   "metadata": {},
   "source": [
    "### 2. What deals should Lyft offer and promote?"
   ]
  },
  {
   "cell_type": "markdown",
   "metadata": {},
   "source": [
    "Currently, Lyft has seen a relatively consistent growth in number of subscribers as seen below. As of August 2016, there are <b> 4065 Bay Wheels customers and 26290 subscribers </b> in comparison to 1173 customers and 929 subscribers in August 2013."
   ]
  },
  {
   "cell_type": "code",
   "execution_count": 5,
   "metadata": {},
   "outputs": [
    {
     "name": "stdout",
     "output_type": "stream",
     "text": [
      "Waiting on bqjob_r63b1603a65677a82_00000174dd23edf4_1 ... (0s) Current status: DONE   \n"
     ]
    }
   ],
   "source": [
    "! bq query --use_legacy_sql=FALSE --format=csv --max_rows=1000000 ' SELECT * FROM `bike_trip_data.trip_subscriber_month_year`' > subscriber_growth.csv"
   ]
  },
  {
   "cell_type": "code",
   "execution_count": 6,
   "metadata": {},
   "outputs": [
    {
     "data": {
      "text/html": [
       "<div>\n",
       "<style scoped>\n",
       "    .dataframe tbody tr th:only-of-type {\n",
       "        vertical-align: middle;\n",
       "    }\n",
       "\n",
       "    .dataframe tbody tr th {\n",
       "        vertical-align: top;\n",
       "    }\n",
       "\n",
       "    .dataframe thead th {\n",
       "        text-align: right;\n",
       "    }\n",
       "</style>\n",
       "<table border=\"1\" class=\"dataframe\">\n",
       "  <thead>\n",
       "    <tr style=\"text-align: right;\">\n",
       "      <th></th>\n",
       "      <th>trip_id</th>\n",
       "      <th>subscriber_type</th>\n",
       "      <th>start_date</th>\n",
       "      <th>month_int</th>\n",
       "      <th>month_str</th>\n",
       "      <th>year</th>\n",
       "      <th>year-month</th>\n",
       "    </tr>\n",
       "  </thead>\n",
       "  <tbody>\n",
       "    <tr>\n",
       "      <th>0</th>\n",
       "      <td>4069</td>\n",
       "      <td>Subscriber</td>\n",
       "      <td>2013-08-29 09:08:00</td>\n",
       "      <td>8</td>\n",
       "      <td>August</td>\n",
       "      <td>2013</td>\n",
       "      <td>2013-08</td>\n",
       "    </tr>\n",
       "    <tr>\n",
       "      <th>1</th>\n",
       "      <td>4073</td>\n",
       "      <td>Subscriber</td>\n",
       "      <td>2013-08-29 09:24:00</td>\n",
       "      <td>8</td>\n",
       "      <td>August</td>\n",
       "      <td>2013</td>\n",
       "      <td>2013-08</td>\n",
       "    </tr>\n",
       "    <tr>\n",
       "      <th>2</th>\n",
       "      <td>4075</td>\n",
       "      <td>Subscriber</td>\n",
       "      <td>2013-08-29 09:24:00</td>\n",
       "      <td>8</td>\n",
       "      <td>August</td>\n",
       "      <td>2013</td>\n",
       "      <td>2013-08</td>\n",
       "    </tr>\n",
       "    <tr>\n",
       "      <th>3</th>\n",
       "      <td>4074</td>\n",
       "      <td>Subscriber</td>\n",
       "      <td>2013-08-29 09:24:00</td>\n",
       "      <td>8</td>\n",
       "      <td>August</td>\n",
       "      <td>2013</td>\n",
       "      <td>2013-08</td>\n",
       "    </tr>\n",
       "    <tr>\n",
       "      <th>4</th>\n",
       "      <td>4076</td>\n",
       "      <td>Subscriber</td>\n",
       "      <td>2013-08-29 09:25:00</td>\n",
       "      <td>8</td>\n",
       "      <td>August</td>\n",
       "      <td>2013</td>\n",
       "      <td>2013-08</td>\n",
       "    </tr>\n",
       "  </tbody>\n",
       "</table>\n",
       "</div>"
      ],
      "text/plain": [
       "   trip_id subscriber_type           start_date  month_int month_str  year  \\\n",
       "0     4069      Subscriber  2013-08-29 09:08:00          8    August  2013   \n",
       "1     4073      Subscriber  2013-08-29 09:24:00          8    August  2013   \n",
       "2     4075      Subscriber  2013-08-29 09:24:00          8    August  2013   \n",
       "3     4074      Subscriber  2013-08-29 09:24:00          8    August  2013   \n",
       "4     4076      Subscriber  2013-08-29 09:25:00          8    August  2013   \n",
       "\n",
       "  year-month  \n",
       "0    2013-08  \n",
       "1    2013-08  \n",
       "2    2013-08  \n",
       "3    2013-08  \n",
       "4    2013-08  "
      ]
     },
     "execution_count": 6,
     "metadata": {},
     "output_type": "execute_result"
    }
   ],
   "source": [
    "subscriber_growth = pd.read_csv('subscriber_growth.csv')\n",
    "subscriber_growth['year-month'] = pd.to_datetime(subscriber_growth['start_date']).dt.to_period('M')\n",
    "subscriber_growth.head()"
   ]
  },
  {
   "cell_type": "code",
   "execution_count": 7,
   "metadata": {},
   "outputs": [
    {
     "data": {
      "text/html": [
       "<div>\n",
       "<style scoped>\n",
       "    .dataframe tbody tr th:only-of-type {\n",
       "        vertical-align: middle;\n",
       "    }\n",
       "\n",
       "    .dataframe tbody tr th {\n",
       "        vertical-align: top;\n",
       "    }\n",
       "\n",
       "    .dataframe thead th {\n",
       "        text-align: right;\n",
       "    }\n",
       "</style>\n",
       "<table border=\"1\" class=\"dataframe\">\n",
       "  <thead>\n",
       "    <tr style=\"text-align: right;\">\n",
       "      <th>subscriber_type</th>\n",
       "      <th>Customer</th>\n",
       "      <th>Subscriber</th>\n",
       "    </tr>\n",
       "    <tr>\n",
       "      <th>year-month</th>\n",
       "      <th></th>\n",
       "      <th></th>\n",
       "    </tr>\n",
       "  </thead>\n",
       "  <tbody>\n",
       "    <tr>\n",
       "      <th>2013-08</th>\n",
       "      <td>1173</td>\n",
       "      <td>929</td>\n",
       "    </tr>\n",
       "  </tbody>\n",
       "</table>\n",
       "</div>"
      ],
      "text/plain": [
       "subscriber_type  Customer  Subscriber\n",
       "year-month                           \n",
       "2013-08              1173         929"
      ]
     },
     "execution_count": 7,
     "metadata": {},
     "output_type": "execute_result"
    }
   ],
   "source": [
    "sg_pivot = subscriber_growth.pivot_table(index='year-month', columns='subscriber_type', values='trip_id', aggfunc='count')\n",
    "sg_pivot.head(1)"
   ]
  },
  {
   "cell_type": "code",
   "execution_count": 8,
   "metadata": {},
   "outputs": [
    {
     "data": {
      "text/html": [
       "<div>\n",
       "<style scoped>\n",
       "    .dataframe tbody tr th:only-of-type {\n",
       "        vertical-align: middle;\n",
       "    }\n",
       "\n",
       "    .dataframe tbody tr th {\n",
       "        vertical-align: top;\n",
       "    }\n",
       "\n",
       "    .dataframe thead th {\n",
       "        text-align: right;\n",
       "    }\n",
       "</style>\n",
       "<table border=\"1\" class=\"dataframe\">\n",
       "  <thead>\n",
       "    <tr style=\"text-align: right;\">\n",
       "      <th>subscriber_type</th>\n",
       "      <th>Customer</th>\n",
       "      <th>Subscriber</th>\n",
       "    </tr>\n",
       "    <tr>\n",
       "      <th>year-month</th>\n",
       "      <th></th>\n",
       "      <th></th>\n",
       "    </tr>\n",
       "  </thead>\n",
       "  <tbody>\n",
       "    <tr>\n",
       "      <th>2016-08</th>\n",
       "      <td>4065</td>\n",
       "      <td>26290</td>\n",
       "    </tr>\n",
       "  </tbody>\n",
       "</table>\n",
       "</div>"
      ],
      "text/plain": [
       "subscriber_type  Customer  Subscriber\n",
       "year-month                           \n",
       "2016-08              4065       26290"
      ]
     },
     "execution_count": 8,
     "metadata": {},
     "output_type": "execute_result"
    }
   ],
   "source": [
    "sg_pivot.tail(1)"
   ]
  },
  {
   "cell_type": "code",
   "execution_count": 9,
   "metadata": {},
   "outputs": [
    {
     "data": {
      "text/plain": [
       "<AxesSubplot:xlabel='year-month'>"
      ]
     },
     "execution_count": 9,
     "metadata": {},
     "output_type": "execute_result"
    },
    {
     "data": {
      "image/png": "[encoded data removed]",
      "text/plain": [
       "<Figure size 432x288 with 1 Axes>"
      ]
     },
     "metadata": {
      "needs_background": "light"
     },
     "output_type": "display_data"
    }
   ],
   "source": [
    "sg_pivot.plot()"
   ]
  },
  {
   "cell_type": "markdown",
   "metadata": {},
   "source": [
    "In order to convert as much of the remaining 4065 customers into Bay Wheels subscribers, here are the following recommendations I've made to Bay Wheels memberships and offers: increase corporate, monthly, annual membership promotions; offer a weekend pass; and provide trial runs."
   ]
  },
  {
   "cell_type": "markdown",
   "metadata": {},
   "source": [
    "#### Offer #1: Increase Corporate, Monthly, Annual Membership Promotions"
   ]
  },
  {
   "cell_type": "markdown",
   "metadata": {},
   "source": [
    "To increase revenue from the Bay Wheels system, I suggest <b> increased marketing and partnerships with corporations </b> whose offices are near the top 5 most popular routes discussed earlier (see above Question 1), as their workers likely often make these commutes. We can also <b> increase promotions of monthly and annual passes for commuters </b> whose employers don't currently subscribe to corporate memberships. By increasing the number of corporate, monthly, and annual memberships, we can further scale up the number of subscribers, greatly solidifying Lyft Bay Wheels presence in San Francisco. In addition, we can also expand the number of bikes and docks offered at these stations to ensure that commuters can make these trips."
   ]
  },
  {
   "cell_type": "markdown",
   "metadata": {},
   "source": [
    "#### Offer #2: A Weekend Pass"
   ]
  },
  {
   "cell_type": "markdown",
   "metadata": {},
   "source": [
    "Based on my analysis, I found that on average, <b> weekend trips last about 41.70 minutes </b>. Since daily passes only cover rides that last 30 minutes or less, Lyft can potentially take advantage of the opportunity to offer special weekend passes that allow customers to go on longer biking trips around SF on their days off."
   ]
  },
  {
   "cell_type": "code",
   "execution_count": 10,
   "metadata": {},
   "outputs": [
    {
     "name": "stdout",
     "output_type": "stream",
     "text": [
      "Waiting on bqjob_r7b4456c3b02cccf4_00000174dd2649ff_1 ... (0s) Current status: DONE   \n"
     ]
    }
   ],
   "source": [
    "! bq query --use_legacy_sql=FALSE --format=csv 'SELECT dow_weekday, avg(duration_minutes) as avg_duration_minutes FROM `bike_trip_data.duration_start_datetime` GROUP BY dow_weekday' > avg_duration_minutes.csv"
   ]
  },
  {
   "cell_type": "code",
   "execution_count": 11,
   "metadata": {},
   "outputs": [
    {
     "data": {
      "text/html": [
       "<div>\n",
       "<style scoped>\n",
       "    .dataframe tbody tr th:only-of-type {\n",
       "        vertical-align: middle;\n",
       "    }\n",
       "\n",
       "    .dataframe tbody tr th {\n",
       "        vertical-align: top;\n",
       "    }\n",
       "\n",
       "    .dataframe thead th {\n",
       "        text-align: right;\n",
       "    }\n",
       "</style>\n",
       "<table border=\"1\" class=\"dataframe\">\n",
       "  <thead>\n",
       "    <tr style=\"text-align: right;\">\n",
       "      <th></th>\n",
       "      <th>dow_weekday</th>\n",
       "      <th>avg_duration_minutes</th>\n",
       "    </tr>\n",
       "  </thead>\n",
       "  <tbody>\n",
       "    <tr>\n",
       "      <th>0</th>\n",
       "      <td>Weekday</td>\n",
       "      <td>13.825866</td>\n",
       "    </tr>\n",
       "    <tr>\n",
       "      <th>1</th>\n",
       "      <td>Weekend</td>\n",
       "      <td>41.707668</td>\n",
       "    </tr>\n",
       "  </tbody>\n",
       "</table>\n",
       "</div>"
      ],
      "text/plain": [
       "  dow_weekday  avg_duration_minutes\n",
       "0     Weekday             13.825866\n",
       "1     Weekend             41.707668"
      ]
     },
     "execution_count": 11,
     "metadata": {},
     "output_type": "execute_result"
    }
   ],
   "source": [
    "avg_duration_minutes = pd.read_csv('avg_duration_minutes.csv')\n",
    "avg_duration_minutes"
   ]
  },
  {
   "cell_type": "markdown",
   "metadata": {},
   "source": [
    "By creating a weekend pass, Lyft can also increase the number of trips that occur on the weekends. Currently, there are much fewer trips that occur on Saturdays and Sundays."
   ]
  },
  {
   "cell_type": "code",
   "execution_count": 12,
   "metadata": {},
   "outputs": [
    {
     "name": "stdout",
     "output_type": "stream",
     "text": [
      "Waiting on bqjob_r3c4b6e3b477ee783_00000174dd265bfa_1 ... (0s) Current status: DONE   \n"
     ]
    }
   ],
   "source": [
    "! bq query --use_legacy_sql=FALSE --format=csv 'SELECT dow_int, dow_str, count(*) as num_trips FROM `bike_trip_data.trip_start_end_times` group by dow_int, dow_str order by dow_int' > num_trips_dow.csv"
   ]
  },
  {
   "cell_type": "code",
   "execution_count": 13,
   "metadata": {},
   "outputs": [
    {
     "data": {
      "text/html": [
       "<div>\n",
       "<style scoped>\n",
       "    .dataframe tbody tr th:only-of-type {\n",
       "        vertical-align: middle;\n",
       "    }\n",
       "\n",
       "    .dataframe tbody tr th {\n",
       "        vertical-align: top;\n",
       "    }\n",
       "\n",
       "    .dataframe thead th {\n",
       "        text-align: right;\n",
       "    }\n",
       "</style>\n",
       "<table border=\"1\" class=\"dataframe\">\n",
       "  <thead>\n",
       "    <tr style=\"text-align: right;\">\n",
       "      <th></th>\n",
       "      <th>dow_int</th>\n",
       "      <th>dow_str</th>\n",
       "      <th>num_trips</th>\n",
       "    </tr>\n",
       "  </thead>\n",
       "  <tbody>\n",
       "    <tr>\n",
       "      <th>0</th>\n",
       "      <td>1</td>\n",
       "      <td>Sunday</td>\n",
       "      <td>51375</td>\n",
       "    </tr>\n",
       "    <tr>\n",
       "      <th>1</th>\n",
       "      <td>2</td>\n",
       "      <td>Monday</td>\n",
       "      <td>169937</td>\n",
       "    </tr>\n",
       "    <tr>\n",
       "      <th>2</th>\n",
       "      <td>3</td>\n",
       "      <td>Tuesday</td>\n",
       "      <td>184405</td>\n",
       "    </tr>\n",
       "    <tr>\n",
       "      <th>3</th>\n",
       "      <td>4</td>\n",
       "      <td>Wednesday</td>\n",
       "      <td>180767</td>\n",
       "    </tr>\n",
       "    <tr>\n",
       "      <th>4</th>\n",
       "      <td>5</td>\n",
       "      <td>Thursday</td>\n",
       "      <td>176908</td>\n",
       "    </tr>\n",
       "    <tr>\n",
       "      <th>5</th>\n",
       "      <td>6</td>\n",
       "      <td>Friday</td>\n",
       "      <td>159977</td>\n",
       "    </tr>\n",
       "    <tr>\n",
       "      <th>6</th>\n",
       "      <td>7</td>\n",
       "      <td>Saturday</td>\n",
       "      <td>60279</td>\n",
       "    </tr>\n",
       "  </tbody>\n",
       "</table>\n",
       "</div>"
      ],
      "text/plain": [
       "   dow_int    dow_str  num_trips\n",
       "0        1     Sunday      51375\n",
       "1        2     Monday     169937\n",
       "2        3    Tuesday     184405\n",
       "3        4  Wednesday     180767\n",
       "4        5   Thursday     176908\n",
       "5        6     Friday     159977\n",
       "6        7   Saturday      60279"
      ]
     },
     "execution_count": 13,
     "metadata": {},
     "output_type": "execute_result"
    }
   ],
   "source": [
    "num_trips_dow = pd.read_csv('num_trips_dow.csv')\n",
    "num_trips_dow"
   ]
  },
  {
   "cell_type": "code",
   "execution_count": 14,
   "metadata": {},
   "outputs": [
    {
     "name": "stdout",
     "output_type": "stream",
     "text": [
      "In total, there are 983648 total trips.\n",
      "Weekend trips only make up 11.35% of the total amount of trips.\n"
     ]
    }
   ],
   "source": [
    "total_trips = sum(num_trips_dow.num_trips)\n",
    "weekend_percent = ((num_trips_dow.num_trips[0] + num_trips_dow.num_trips[6])/total_trips)*100\n",
    "print(\"In total, there are %s total trips.\" % (total_trips))\n",
    "print(\"Weekend trips only make up {d}% of the total amount of trips.\".format(d = round(weekend_percent,2)))"
   ]
  },
  {
   "cell_type": "code",
   "execution_count": 15,
   "metadata": {},
   "outputs": [
    {
     "data": {
      "image/png": "[encoded data removed]",
      "text/plain": [
       "<Figure size 432x288 with 1 Axes>"
      ]
     },
     "metadata": {
      "needs_background": "light"
     },
     "output_type": "display_data"
    }
   ],
   "source": [
    "num_trips_dow_plot = plt.figure()\n",
    "ax = num_trips_dow_plot.add_axes([0,0,1,1])\n",
    "day_of_week = num_trips_dow.dow_str\n",
    "num_trips = num_trips_dow.num_trips\n",
    "ax.bar(day_of_week,num_trips, color=['royalblue', 'lightsteelblue', 'lightsteelblue', 'lightsteelblue', 'lightsteelblue',\n",
    "                                     'lightsteelblue', 'royalblue'])\n",
    "plt.xlabel('Day of Week')\n",
    "plt.ylabel('Number of Trips')\n",
    "plt.title('Number of Trips per Day of Week')\n",
    "plt.show()"
   ]
  },
  {
   "cell_type": "markdown",
   "metadata": {},
   "source": [
    "While weekend trips are only 11.35% of total trips in the entire dataset, since trips last longer on the weekends, offering weekend passes <b> can increase the number of weekend trips </b>. In this way, Lyft Bay Wheels can capitalize on the number of bikes unused on the weekends by increasing trips, and thus, increasing revenue gained from membership offers."
   ]
  },
  {
   "cell_type": "markdown",
   "metadata": {},
   "source": [
    "#### Offer #3: Trial Run"
   ]
  },
  {
   "cell_type": "markdown",
   "metadata": {},
   "source": [
    "Lyft should also consider a free trial period for customers to try using the bikes. Currently, there are <b> 180079 trips that last less than 5 minutes </b>, or 300 seconds (about 18.31% of all trips, based on the answer to the first query in Part 1)."
   ]
  },
  {
   "cell_type": "code",
   "execution_count": 16,
   "metadata": {},
   "outputs": [
    {
     "name": "stdout",
     "output_type": "stream",
     "text": [
      "Waiting on bqjob_rdf5f5dbaaec0eb6_00000174dd268252_1 ... (0s) Current status: DONE   \n"
     ]
    }
   ],
   "source": [
    "! bq query --use_legacy_sql=FALSE --format=csv 'SELECT count(duration_sec) as num_trips FROM `bigquery-public-data.san_francisco.bikeshare_trips` WHERE duration_sec <= 300' > trips_less_300.csv"
   ]
  },
  {
   "cell_type": "code",
   "execution_count": 17,
   "metadata": {},
   "outputs": [
    {
     "data": {
      "text/html": [
       "<div>\n",
       "<style scoped>\n",
       "    .dataframe tbody tr th:only-of-type {\n",
       "        vertical-align: middle;\n",
       "    }\n",
       "\n",
       "    .dataframe tbody tr th {\n",
       "        vertical-align: top;\n",
       "    }\n",
       "\n",
       "    .dataframe thead th {\n",
       "        text-align: right;\n",
       "    }\n",
       "</style>\n",
       "<table border=\"1\" class=\"dataframe\">\n",
       "  <thead>\n",
       "    <tr style=\"text-align: right;\">\n",
       "      <th></th>\n",
       "      <th>num_trips</th>\n",
       "    </tr>\n",
       "  </thead>\n",
       "  <tbody>\n",
       "    <tr>\n",
       "      <th>0</th>\n",
       "      <td>180079</td>\n",
       "    </tr>\n",
       "  </tbody>\n",
       "</table>\n",
       "</div>"
      ],
      "text/plain": [
       "   num_trips\n",
       "0     180079"
      ]
     },
     "execution_count": 17,
     "metadata": {},
     "output_type": "execute_result"
    }
   ],
   "source": [
    "trips_less_300 = pd.read_csv('trips_less_300.csv')\n",
    "trips_less_300"
   ]
  },
  {
   "cell_type": "code",
   "execution_count": 18,
   "metadata": {},
   "outputs": [
    {
     "name": "stdout",
     "output_type": "stream",
     "text": [
      "Waiting on bqjob_r4e3f725853a0cdfd_00000174dd26ace2_1 ... (0s) Current status: DONE   \n"
     ]
    }
   ],
   "source": [
    "! bq query --use_legacy_sql=FALSE --format=csv --max_rows=1000000 'SELECT *, CASE WHEN duration_minutes <= 5 THEN \"Very Short\" WHEN duration_minutes >= 6 and duration_minutes <= 20 THEN \"Average\" WHEN duration_minutes >= 21 and duration_minutes <= 60 THEN \"Long\" ELSE \"Very Long\" END AS trip_length FROM `bike_trip_data.duration_sec_min`' > duration.csv"
   ]
  },
  {
   "cell_type": "code",
   "execution_count": 19,
   "metadata": {},
   "outputs": [
    {
     "data": {
      "text/html": [
       "<div>\n",
       "<style scoped>\n",
       "    .dataframe tbody tr th:only-of-type {\n",
       "        vertical-align: middle;\n",
       "    }\n",
       "\n",
       "    .dataframe tbody tr th {\n",
       "        vertical-align: top;\n",
       "    }\n",
       "\n",
       "    .dataframe thead th {\n",
       "        text-align: right;\n",
       "    }\n",
       "</style>\n",
       "<table border=\"1\" class=\"dataframe\">\n",
       "  <thead>\n",
       "    <tr style=\"text-align: right;\">\n",
       "      <th></th>\n",
       "      <th>duration_min</th>\n",
       "      <th>duration_minutes</th>\n",
       "      <th>duration_sec</th>\n",
       "      <th>trip_id</th>\n",
       "    </tr>\n",
       "    <tr>\n",
       "      <th>trip_length</th>\n",
       "      <th></th>\n",
       "      <th></th>\n",
       "      <th></th>\n",
       "      <th></th>\n",
       "    </tr>\n",
       "  </thead>\n",
       "  <tbody>\n",
       "    <tr>\n",
       "      <th>Average</th>\n",
       "      <td>680939</td>\n",
       "      <td>680939</td>\n",
       "      <td>680939</td>\n",
       "      <td>680939</td>\n",
       "    </tr>\n",
       "    <tr>\n",
       "      <th>Long</th>\n",
       "      <td>54422</td>\n",
       "      <td>54422</td>\n",
       "      <td>54422</td>\n",
       "      <td>54422</td>\n",
       "    </tr>\n",
       "    <tr>\n",
       "      <th>Very Long</th>\n",
       "      <td>27913</td>\n",
       "      <td>27913</td>\n",
       "      <td>27913</td>\n",
       "      <td>27913</td>\n",
       "    </tr>\n",
       "    <tr>\n",
       "      <th>Very Short</th>\n",
       "      <td>220374</td>\n",
       "      <td>220374</td>\n",
       "      <td>220374</td>\n",
       "      <td>220374</td>\n",
       "    </tr>\n",
       "  </tbody>\n",
       "</table>\n",
       "</div>"
      ],
      "text/plain": [
       "             duration_min  duration_minutes  duration_sec  trip_id\n",
       "trip_length                                                       \n",
       "Average            680939            680939        680939   680939\n",
       "Long                54422             54422         54422    54422\n",
       "Very Long           27913             27913         27913    27913\n",
       "Very Short         220374            220374        220374   220374"
      ]
     },
     "execution_count": 19,
     "metadata": {},
     "output_type": "execute_result"
    }
   ],
   "source": [
    "duration = pd.read_csv('duration.csv')\n",
    "duration['duration_min'] = round(duration['duration_sec']/60, 2)\n",
    "duration = duration.pivot_table(index='trip_length', aggfunc='count')\n",
    "duration"
   ]
  },
  {
   "cell_type": "code",
   "execution_count": 20,
   "metadata": {},
   "outputs": [
    {
     "data": {
      "image/png": "[encoded data removed]",
      "text/plain": [
       "<Figure size 432x288 with 1 Axes>"
      ]
     },
     "metadata": {
      "needs_background": "light"
     },
     "output_type": "display_data"
    }
   ],
   "source": [
    "trip_length = ['Average', 'Long', 'Very Long', 'Very Short']\n",
    "plt.bar(trip_length, duration.trip_id, color = ['goldenrod', 'darkorange', 'navajowhite', 'lemonchiffon'])\n",
    "plt.xlabel(\"Trip Length\")\n",
    "plt.ylabel(\"Number of Trips\")\n",
    "plt.title(\"Number of Trips Based on Duration\")\n",
    "plt.show()"
   ]
  },
  {
   "cell_type": "markdown",
   "metadata": {},
   "source": [
    "We can see here that the number of trips less than or equal to 5 minutes is almost 20% of the total number of trips. These trips are likely very short, since bike users might be testing the bikes out or simply realized they didn't need to use a bike. Since potential users might simply want to try using a Lyft bike, to incentivize more of them to give Bay Wheels a try, we can offer a trial ride so that the cost of using a bike is less intimidating.\n",
    "\n",
    "<b>Note</b>: Due to rounding while creating intermediate views to make data analysis easier, the numbers are slightly different for the number of trips based on trip duration in the above graph compared to the previous finding where the number of trips less than or equal to 5 minutes was 180079. Here, the number is closer to 200000. However, the distribution of trip length is very similar; very short trips still only account for a fifth of total trips similar to the above statement."
   ]
  },
  {
   "cell_type": "markdown",
   "metadata": {},
   "source": [
    "## Additional Recommendations"
   ]
  },
  {
   "cell_type": "markdown",
   "metadata": {},
   "source": [
    "Aside from improving and creating new deals for bike memberships and passes, there are other suggestions I'd like to make based off my data analysis."
   ]
  },
  {
   "cell_type": "markdown",
   "metadata": {},
   "source": [
    "### Increase Popular Station Bike Availability"
   ]
  },
  {
   "cell_type": "markdown",
   "metadata": {},
   "source": [
    "I recommend that Lyft increase bike availability for the following stations due to frequent scarcity: station 73 Grant Avenue at Columbus Avenue, station 71 Powell at Post (Union Square), station 55 Temporary Transbay Terminal (Howard at Beale), station 56 Beale at Market, station 34 Palo Alto Caltrain Station, station 13 St. James Park, station 90 Townsend at 7th, and station 49 Spear at Folsom. These stations are frequently visited by both customers and subscribers on weekdays and weekends as seen below."
   ]
  },
  {
   "cell_type": "code",
   "execution_count": 21,
   "metadata": {},
   "outputs": [
    {
     "name": "stdout",
     "output_type": "stream",
     "text": [
      "Waiting on bqjob_r4b109f20ab01d2cf_00000174dd2bac30_1 ... (0s) Current status: DONE   \n"
     ]
    }
   ],
   "source": [
    "! bq query --use_legacy_sql=FALSE --format=csv  'SELECT lowest5_wkday.num_times_scarce, stations.name, lowest5_wkday.station_id as lowest5_wkday_station_id, stations.station_id as stations_station_id FROM `bike_trip_data.lowest5_available_wkday` lowest5_wkday INNER JOIN `bigquery-public-data.san_francisco.bikeshare_stations` stations ON lowest5_wkday.station_id = stations.station_id' > lowest5_wkday.csv"
   ]
  },
  {
   "cell_type": "code",
   "execution_count": 22,
   "metadata": {},
   "outputs": [
    {
     "data": {
      "text/html": [
       "<div>\n",
       "<style scoped>\n",
       "    .dataframe tbody tr th:only-of-type {\n",
       "        vertical-align: middle;\n",
       "    }\n",
       "\n",
       "    .dataframe tbody tr th {\n",
       "        vertical-align: top;\n",
       "    }\n",
       "\n",
       "    .dataframe thead th {\n",
       "        text-align: right;\n",
       "    }\n",
       "</style>\n",
       "<table border=\"1\" class=\"dataframe\">\n",
       "  <thead>\n",
       "    <tr style=\"text-align: right;\">\n",
       "      <th></th>\n",
       "      <th>num_times_scarce</th>\n",
       "      <th>name</th>\n",
       "      <th>stations_station_id</th>\n",
       "    </tr>\n",
       "  </thead>\n",
       "  <tbody>\n",
       "    <tr>\n",
       "      <th>0</th>\n",
       "      <td>3719</td>\n",
       "      <td>Grant Avenue at Columbus Avenue</td>\n",
       "      <td>73</td>\n",
       "    </tr>\n",
       "    <tr>\n",
       "      <th>1</th>\n",
       "      <td>548</td>\n",
       "      <td>Temporary Transbay Terminal (Howard at Beale)</td>\n",
       "      <td>55</td>\n",
       "    </tr>\n",
       "    <tr>\n",
       "      <th>2</th>\n",
       "      <td>456</td>\n",
       "      <td>St James Park</td>\n",
       "      <td>13</td>\n",
       "    </tr>\n",
       "    <tr>\n",
       "      <th>3</th>\n",
       "      <td>90</td>\n",
       "      <td>Townsend at 7th</td>\n",
       "      <td>65</td>\n",
       "    </tr>\n",
       "    <tr>\n",
       "      <th>4</th>\n",
       "      <td>70</td>\n",
       "      <td>Spear at Folsom</td>\n",
       "      <td>49</td>\n",
       "    </tr>\n",
       "  </tbody>\n",
       "</table>\n",
       "</div>"
      ],
      "text/plain": [
       "   num_times_scarce                                           name  \\\n",
       "0              3719                Grant Avenue at Columbus Avenue   \n",
       "1               548  Temporary Transbay Terminal (Howard at Beale)   \n",
       "2               456                                  St James Park   \n",
       "3                90                                Townsend at 7th   \n",
       "4                70                                Spear at Folsom   \n",
       "\n",
       "   stations_station_id  \n",
       "0                   73  \n",
       "1                   55  \n",
       "2                   13  \n",
       "3                   65  \n",
       "4                   49  "
      ]
     },
     "execution_count": 22,
     "metadata": {},
     "output_type": "execute_result"
    }
   ],
   "source": [
    "lowest5_wkday = pd.read_csv('lowest5_wkday.csv')\n",
    "lowest5_wkday[['num_times_scarce', 'name', 'stations_station_id']]"
   ]
  },
  {
   "cell_type": "code",
   "execution_count": 23,
   "metadata": {},
   "outputs": [
    {
     "name": "stdout",
     "output_type": "stream",
     "text": [
      "Waiting on bqjob_r143e3850a0651bff_00000174dd2bbb70_1 ... (0s) Current status: DONE   \n"
     ]
    }
   ],
   "source": [
    "! bq query --use_legacy_sql=FALSE --format=csv '  SELECT lowest5_wkend.num_times_scarce, stations.name, lowest5_wkend.station_id as lowest5_wkend_station_id, stations.station_id as stations_station_id FROM `bike_trip_data.lowest5_available_wkend` lowest5_wkend INNER JOIN `bigquery-public-data.san_francisco.bikeshare_stations` stations ON lowest5_wkend.station_id = stations.station_id' > lowest5_wkend.csv"
   ]
  },
  {
   "cell_type": "code",
   "execution_count": 24,
   "metadata": {},
   "outputs": [
    {
     "data": {
      "text/html": [
       "<div>\n",
       "<style scoped>\n",
       "    .dataframe tbody tr th:only-of-type {\n",
       "        vertical-align: middle;\n",
       "    }\n",
       "\n",
       "    .dataframe tbody tr th {\n",
       "        vertical-align: top;\n",
       "    }\n",
       "\n",
       "    .dataframe thead th {\n",
       "        text-align: right;\n",
       "    }\n",
       "</style>\n",
       "<table border=\"1\" class=\"dataframe\">\n",
       "  <thead>\n",
       "    <tr style=\"text-align: right;\">\n",
       "      <th></th>\n",
       "      <th>num_times_scarce</th>\n",
       "      <th>name</th>\n",
       "      <th>stations_station_id</th>\n",
       "    </tr>\n",
       "  </thead>\n",
       "  <tbody>\n",
       "    <tr>\n",
       "      <th>0</th>\n",
       "      <td>2483</td>\n",
       "      <td>Grant Avenue at Columbus Avenue</td>\n",
       "      <td>73</td>\n",
       "    </tr>\n",
       "    <tr>\n",
       "      <th>1</th>\n",
       "      <td>1074</td>\n",
       "      <td>Powell at Post (Union Square)</td>\n",
       "      <td>71</td>\n",
       "    </tr>\n",
       "    <tr>\n",
       "      <th>2</th>\n",
       "      <td>143</td>\n",
       "      <td>Temporary Transbay Terminal (Howard at Beale)</td>\n",
       "      <td>55</td>\n",
       "    </tr>\n",
       "    <tr>\n",
       "      <th>3</th>\n",
       "      <td>90</td>\n",
       "      <td>Beale at Market</td>\n",
       "      <td>56</td>\n",
       "    </tr>\n",
       "    <tr>\n",
       "      <th>4</th>\n",
       "      <td>81</td>\n",
       "      <td>Palo Alto Caltrain Station</td>\n",
       "      <td>34</td>\n",
       "    </tr>\n",
       "  </tbody>\n",
       "</table>\n",
       "</div>"
      ],
      "text/plain": [
       "   num_times_scarce                                           name  \\\n",
       "0              2483                Grant Avenue at Columbus Avenue   \n",
       "1              1074                  Powell at Post (Union Square)   \n",
       "2               143  Temporary Transbay Terminal (Howard at Beale)   \n",
       "3                90                                Beale at Market   \n",
       "4                81                     Palo Alto Caltrain Station   \n",
       "\n",
       "   stations_station_id  \n",
       "0                   73  \n",
       "1                   71  \n",
       "2                   55  \n",
       "3                   56  \n",
       "4                   34  "
      ]
     },
     "execution_count": 24,
     "metadata": {},
     "output_type": "execute_result"
    }
   ],
   "source": [
    "lowest5_wkend = pd.read_csv('lowest5_wkend.csv')\n",
    "lowest5_wkend[['num_times_scarce', 'name', 'stations_station_id']]"
   ]
  },
  {
   "cell_type": "markdown",
   "metadata": {},
   "source": [
    "To measure scarcity, I looked at the number of occurrences where the number of bikes and docks available were less than 4. This would be an adequate measure, since if there are little to no bikes then that means users are frequently coming to the station and checking out bikes. If there are no docks available, then docks are either already being used or simply unavailable. As a result, Lyft should consider increasing the number of bikes and docks available at these stations, since they are often scarce, especially the station 73.\n",
    "\n",
    "<b> Note </b>: To find stations that frequently had scarcity of bikes and docks, I did not include station 87, because every time the station appeared in the dataset, it had 0 bikes and 0 docks, which could be due to an error in data collection."
   ]
  },
  {
   "cell_type": "markdown",
   "metadata": {},
   "source": [
    "### Decrease Unused Bikes & Docks"
   ]
  },
  {
   "cell_type": "markdown",
   "metadata": {},
   "source": [
    "On the other side of the spectrum, there are stations that frequently have more than 20 bikes and docks available altogether."
   ]
  },
  {
   "cell_type": "code",
   "execution_count": 25,
   "metadata": {},
   "outputs": [
    {
     "name": "stdout",
     "output_type": "stream",
     "text": [
      "Waiting on bqjob_r79efd893efe3b6b6_00000174dd2bd00e_1 ... (0s) Current status: DONE   \n"
     ]
    }
   ],
   "source": [
    "! bq query --use_legacy_sql=FALSE --format=csv 'SELECT plenty_wkday.num_times_plenty, stations.name, plenty_wkday.station_id as plenty_wkday_station_id, stations.station_id as stations_station_id FROM `bike_trip_data.station_wkday_high_availability` plenty_wkday INNER JOIN `bigquery-public-data.san_francisco.bikeshare_stations` stations ON plenty_wkday.station_id = stations.station_id order by num_times_plenty desc' > highest_wkday.csv"
   ]
  },
  {
   "cell_type": "code",
   "execution_count": 26,
   "metadata": {},
   "outputs": [
    {
     "data": {
      "text/html": [
       "<div>\n",
       "<style scoped>\n",
       "    .dataframe tbody tr th:only-of-type {\n",
       "        vertical-align: middle;\n",
       "    }\n",
       "\n",
       "    .dataframe tbody tr th {\n",
       "        vertical-align: top;\n",
       "    }\n",
       "\n",
       "    .dataframe thead th {\n",
       "        text-align: right;\n",
       "    }\n",
       "</style>\n",
       "<table border=\"1\" class=\"dataframe\">\n",
       "  <thead>\n",
       "    <tr style=\"text-align: right;\">\n",
       "      <th></th>\n",
       "      <th>num_times_plenty</th>\n",
       "      <th>name</th>\n",
       "      <th>stations_station_id</th>\n",
       "    </tr>\n",
       "  </thead>\n",
       "  <tbody>\n",
       "    <tr>\n",
       "      <th>0</th>\n",
       "      <td>1114960</td>\n",
       "      <td>Mountain View Caltrain Station</td>\n",
       "      <td>28</td>\n",
       "    </tr>\n",
       "    <tr>\n",
       "      <th>1</th>\n",
       "      <td>1114960</td>\n",
       "      <td>San Antonio Caltrain Station</td>\n",
       "      <td>29</td>\n",
       "    </tr>\n",
       "    <tr>\n",
       "      <th>2</th>\n",
       "      <td>1114908</td>\n",
       "      <td>Market at 10th</td>\n",
       "      <td>67</td>\n",
       "    </tr>\n",
       "    <tr>\n",
       "      <th>3</th>\n",
       "      <td>1114892</td>\n",
       "      <td>Golden Gate at Polk</td>\n",
       "      <td>59</td>\n",
       "    </tr>\n",
       "    <tr>\n",
       "      <th>4</th>\n",
       "      <td>1114800</td>\n",
       "      <td>Market at Sansome</td>\n",
       "      <td>77</td>\n",
       "    </tr>\n",
       "    <tr>\n",
       "      <th>5</th>\n",
       "      <td>1114789</td>\n",
       "      <td>2nd at Townsend</td>\n",
       "      <td>61</td>\n",
       "    </tr>\n",
       "    <tr>\n",
       "      <th>6</th>\n",
       "      <td>1114715</td>\n",
       "      <td>San Jose Diridon Caltrain Station</td>\n",
       "      <td>2</td>\n",
       "    </tr>\n",
       "  </tbody>\n",
       "</table>\n",
       "</div>"
      ],
      "text/plain": [
       "   num_times_plenty                               name  stations_station_id\n",
       "0           1114960     Mountain View Caltrain Station                   28\n",
       "1           1114960       San Antonio Caltrain Station                   29\n",
       "2           1114908                     Market at 10th                   67\n",
       "3           1114892                Golden Gate at Polk                   59\n",
       "4           1114800                  Market at Sansome                   77\n",
       "5           1114789                    2nd at Townsend                   61\n",
       "6           1114715  San Jose Diridon Caltrain Station                    2"
      ]
     },
     "execution_count": 26,
     "metadata": {},
     "output_type": "execute_result"
    }
   ],
   "source": [
    "highest_wkday = pd.read_csv('highest_wkday.csv')\n",
    "highest_wkday[['num_times_plenty', 'name', 'stations_station_id']].head(7)"
   ]
  },
  {
   "cell_type": "code",
   "execution_count": 27,
   "metadata": {},
   "outputs": [
    {
     "name": "stdout",
     "output_type": "stream",
     "text": [
      "Waiting on bqjob_r1ec3267c7e348316_00000174dd2bdf4d_1 ... (0s) Current status: DONE   \n"
     ]
    }
   ],
   "source": [
    "! bq query --use_legacy_sql=FALSE --format=csv '  SELECT plenty_wkend.num_times_plenty, stations.name, plenty_wkend.station_id as plenty_wkend_station_id, stations.station_id as stations_station_id FROM `bike_trip_data.station_wkend_high_availability` plenty_wkend INNER JOIN `bigquery-public-data.san_francisco.bikeshare_stations` stations ON plenty_wkend.station_id = stations.station_id order by num_times_plenty desc' > highest_wkend.csv"
   ]
  },
  {
   "cell_type": "code",
   "execution_count": 28,
   "metadata": {},
   "outputs": [
    {
     "data": {
      "text/html": [
       "<div>\n",
       "<style scoped>\n",
       "    .dataframe tbody tr th:only-of-type {\n",
       "        vertical-align: middle;\n",
       "    }\n",
       "\n",
       "    .dataframe tbody tr th {\n",
       "        vertical-align: top;\n",
       "    }\n",
       "\n",
       "    .dataframe thead th {\n",
       "        text-align: right;\n",
       "    }\n",
       "</style>\n",
       "<table border=\"1\" class=\"dataframe\">\n",
       "  <thead>\n",
       "    <tr style=\"text-align: right;\">\n",
       "      <th></th>\n",
       "      <th>num_times_plenty</th>\n",
       "      <th>name</th>\n",
       "      <th>stations_station_id</th>\n",
       "    </tr>\n",
       "  </thead>\n",
       "  <tbody>\n",
       "    <tr>\n",
       "      <th>0</th>\n",
       "      <td>444639</td>\n",
       "      <td>San Jose Diridon Caltrain Station</td>\n",
       "      <td>2</td>\n",
       "    </tr>\n",
       "    <tr>\n",
       "      <th>1</th>\n",
       "      <td>444637</td>\n",
       "      <td>Mountain View Caltrain Station</td>\n",
       "      <td>28</td>\n",
       "    </tr>\n",
       "    <tr>\n",
       "      <th>2</th>\n",
       "      <td>444637</td>\n",
       "      <td>Golden Gate at Polk</td>\n",
       "      <td>59</td>\n",
       "    </tr>\n",
       "    <tr>\n",
       "      <th>3</th>\n",
       "      <td>444637</td>\n",
       "      <td>San Francisco Caltrain 2 (330 Townsend)</td>\n",
       "      <td>69</td>\n",
       "    </tr>\n",
       "    <tr>\n",
       "      <th>4</th>\n",
       "      <td>444637</td>\n",
       "      <td>2nd at Townsend</td>\n",
       "      <td>61</td>\n",
       "    </tr>\n",
       "    <tr>\n",
       "      <th>5</th>\n",
       "      <td>444634</td>\n",
       "      <td>Civic Center BART (7th at Market)</td>\n",
       "      <td>72</td>\n",
       "    </tr>\n",
       "    <tr>\n",
       "      <th>6</th>\n",
       "      <td>444634</td>\n",
       "      <td>Market at Sansome</td>\n",
       "      <td>77</td>\n",
       "    </tr>\n",
       "  </tbody>\n",
       "</table>\n",
       "</div>"
      ],
      "text/plain": [
       "   num_times_plenty                                     name  \\\n",
       "0            444639        San Jose Diridon Caltrain Station   \n",
       "1            444637           Mountain View Caltrain Station   \n",
       "2            444637                      Golden Gate at Polk   \n",
       "3            444637  San Francisco Caltrain 2 (330 Townsend)   \n",
       "4            444637                          2nd at Townsend   \n",
       "5            444634        Civic Center BART (7th at Market)   \n",
       "6            444634                        Market at Sansome   \n",
       "\n",
       "   stations_station_id  \n",
       "0                    2  \n",
       "1                   28  \n",
       "2                   59  \n",
       "3                   69  \n",
       "4                   61  \n",
       "5                   72  \n",
       "6                   77  "
      ]
     },
     "execution_count": 28,
     "metadata": {},
     "output_type": "execute_result"
    }
   ],
   "source": [
    "highest_wkend = pd.read_csv('highest_wkend.csv')\n",
    "highest_wkend[['num_times_plenty', 'name', 'stations_station_id']].head(7)"
   ]
  },
  {
   "cell_type": "markdown",
   "metadata": {},
   "source": [
    "Disregarding the Caltrain stations outside of SF as well as the station at SF Caltrain 2 and 2nd at Townsend (since these stations are part of the top 5 popular commuter routes), stations 67, 59, 77, 61, 72 often have a high number of bikes available. I separated availability between weekdays and weekends, since certain stations may be more or less popular depending on what part of the week it is. However, stations 59 and 77 appear to have plenty of bikes available during both weekdays and weekends. Bikes and docks can be shifted to the more popular stations as listed above, or they can simply be removed to save maintence fees and other costs Lyft may incur."
   ]
  },
  {
   "cell_type": "markdown",
   "metadata": {},
   "source": [
    "## Conclusion"
   ]
  },
  {
   "cell_type": "markdown",
   "metadata": {},
   "source": [
    "In summary, based on the top 5 most popular commuter trips as well as data presented here, I suggest the Lyft consider increasing promotions of corporate, monthly, and annual memberships to capture potential revenue from those who use Bay Wheels to commute. In addition, Lyft should also consider adding a Weekend Pass to capitalize on customers and subscribers who take longer weekend rides as well as a Trial Run offer to incentivize more potentialc onsumers to try out Bay Wheels."
   ]
  },
  {
   "cell_type": "markdown",
   "metadata": {},
   "source": [
    "## Appendix: Code for Saved Views/Tables"
   ]
  },
  {
   "cell_type": "markdown",
   "metadata": {},
   "source": [
    "### Saved Table: bike_trip_data.trip_start_end_times"
   ]
  },
  {
   "cell_type": "code",
   "execution_count": null,
   "metadata": {},
   "outputs": [],
   "source": [
    "SELECT start_station_name, start_date,\n",
    "       EXTRACT(DAYOFWEEK FROM start_date) AS dow_int,\n",
    "       CASE EXTRACT(DAYOFWEEK FROM start_date)\n",
    "           WHEN 1 THEN \"Sunday\"\n",
    "           WHEN 2 THEN \"Monday\"\n",
    "           WHEN 3 THEN \"Tuesday\"\n",
    "           WHEN 4 THEN \"Wednesday\"\n",
    "           WHEN 5 THEN \"Thursday\"\n",
    "           WHEN 6 THEN \"Friday\"\n",
    "           WHEN 7 THEN \"Saturday\"\n",
    "           END AS dow_str,\n",
    "       CASE \n",
    "           WHEN EXTRACT(DAYOFWEEK FROM start_date) IN (1, 7) THEN \"Weekend\"\n",
    "           ELSE \"Weekday\"\n",
    "           END AS dow_weekday,\n",
    "       EXTRACT(HOUR FROM start_date) AS start_hour,\n",
    "       CASE \n",
    "           WHEN EXTRACT(HOUR FROM start_date) <= 5  OR EXTRACT(HOUR FROM start_date) >= 23 THEN \"Nightime\"\n",
    "           WHEN EXTRACT(HOUR FROM start_date) >= 6 and EXTRACT(HOUR FROM start_date) <= 8 THEN \"Morning\"\n",
    "           WHEN EXTRACT(HOUR FROM start_date) >= 9 and EXTRACT(HOUR FROM start_date) <= 10 THEN \"Mid Morning\"\n",
    "           WHEN EXTRACT(HOUR FROM start_date) >= 11 and EXTRACT(HOUR FROM start_date) <= 13 THEN \"Mid Day\"\n",
    "           WHEN EXTRACT(HOUR FROM start_date) >= 14 and EXTRACT(HOUR FROM start_date) <= 16 THEN \"Early Afternoon\"\n",
    "           WHEN EXTRACT(HOUR FROM start_date) >= 17 and EXTRACT(HOUR FROM start_date) <= 19 THEN \"Afternoon\"\n",
    "           WHEN EXTRACT(HOUR FROM start_date) >= 20 and EXTRACT(HOUR FROM start_date) <= 22 THEN \"Evening\"\n",
    "           END AS start_hour_str,\n",
    "     end_date, end_station_name,\n",
    "       EXTRACT(DAYOFWEEK FROM end_date) AS end_dow_int,\n",
    "       CASE EXTRACT(DAYOFWEEK FROM end_date)\n",
    "           WHEN 1 THEN \"Sunday\"\n",
    "           WHEN 2 THEN \"Monday\"\n",
    "           WHEN 3 THEN \"Tuesday\"\n",
    "           WHEN 4 THEN \"Wednesday\"\n",
    "           WHEN 5 THEN \"Thursday\"\n",
    "           WHEN 6 THEN \"Friday\"\n",
    "           WHEN 7 THEN \"Saturday\"\n",
    "           END AS end_dow_str,\n",
    "       CASE \n",
    "           WHEN EXTRACT(DAYOFWEEK FROM end_date) IN (1, 7) THEN \"Weekend\"\n",
    "           ELSE \"Weekday\"\n",
    "           END AS end_dow_weekday,\n",
    "       EXTRACT(HOUR FROM end_date) AS end_hour,\n",
    "       CASE \n",
    "           WHEN EXTRACT(HOUR FROM end_date) <= 5  OR EXTRACT(HOUR FROM end_date) >= 23 THEN \"Nightime\"\n",
    "           WHEN EXTRACT(HOUR FROM end_date) >= 6 and EXTRACT(HOUR FROM end_date) <= 8 THEN \"Morning\"\n",
    "           WHEN EXTRACT(HOUR FROM end_date) >= 9 and EXTRACT(HOUR FROM end_date) <= 10 THEN \"Mid Morning\"\n",
    "           WHEN EXTRACT(HOUR FROM end_date) >= 11 and EXTRACT(HOUR FROM end_date) <= 13 THEN \"Mid Day\"\n",
    "           WHEN EXTRACT(HOUR FROM end_date) >= 14 and EXTRACT(HOUR FROM end_date) <= 16 THEN \"Early Afternoon\"\n",
    "           WHEN EXTRACT(HOUR FROM end_date) >= 17 and EXTRACT(HOUR FROM end_date) <= 19 THEN \"Afternoon\"\n",
    "           WHEN EXTRACT(HOUR FROM end_date) >= 20 and EXTRACT(HOUR FROM end_date) <= 22 THEN \"Evening\"\n",
    "           END AS end_hour_str,\n",
    "FROM `bigquery-public-data.san_francisco.bikeshare_trips`\n",
    "ORDER BY start_date ASC"
   ]
  },
  {
   "cell_type": "markdown",
   "metadata": {},
   "source": [
    "### Saved view: bike_trip_data.duration_start_datetime"
   ]
  },
  {
   "cell_type": "code",
   "execution_count": null,
   "metadata": {},
   "outputs": [],
   "source": [
    "SELECT duration_sec,\n",
    "       CAST(ROUND(duration_sec / 60.0) AS INT64) AS duration_minutes,\n",
    "       CAST(ROUND(duration_sec / 3600.0) AS INT64) AS duration_hours_rounded,\n",
    "       ROUND(duration_sec / 3600.0, 1) AS duration_hours_tenths, \n",
    "   start_date,\n",
    "       EXTRACT(DAYOFWEEK FROM start_date) AS dow_int,\n",
    "       CASE EXTRACT(DAYOFWEEK FROM start_date)\n",
    "           WHEN 1 THEN \"Sunday\"\n",
    "           WHEN 2 THEN \"Monday\"\n",
    "           WHEN 3 THEN \"Tuesday\"\n",
    "           WHEN 4 THEN \"Wednesday\"\n",
    "           WHEN 5 THEN \"Thursday\"\n",
    "           WHEN 6 THEN \"Friday\"\n",
    "           WHEN 7 THEN \"Saturday\"\n",
    "           END AS dow_str,\n",
    "       CASE \n",
    "           WHEN EXTRACT(DAYOFWEEK FROM start_date) IN (1, 7) THEN \"Weekend\"\n",
    "           ELSE \"Weekday\"\n",
    "           END AS dow_weekday,\n",
    "       EXTRACT(HOUR FROM start_date) AS start_hour,\n",
    "       CASE \n",
    "           WHEN EXTRACT(HOUR FROM start_date) <= 5  OR EXTRACT(HOUR FROM start_date) >= 23 THEN \"Nightime\"\n",
    "           WHEN EXTRACT(HOUR FROM start_date) >= 6 and EXTRACT(HOUR FROM start_date) <= 8 THEN \"Morning\"\n",
    "           WHEN EXTRACT(HOUR FROM start_date) >= 9 and EXTRACT(HOUR FROM start_date) <= 10 THEN \"Mid Morning\"\n",
    "           WHEN EXTRACT(HOUR FROM start_date) >= 11 and EXTRACT(HOUR FROM start_date) <= 13 THEN \"Mid Day\"\n",
    "           WHEN EXTRACT(HOUR FROM start_date) >= 14 and EXTRACT(HOUR FROM start_date) <= 16 THEN \"Early Afternoon\"\n",
    "           WHEN EXTRACT(HOUR FROM start_date) >= 17 and EXTRACT(HOUR FROM start_date) <= 19 THEN \"Afternoon\"\n",
    "           WHEN EXTRACT(HOUR FROM start_date) >= 20 and EXTRACT(HOUR FROM start_date) <= 22 THEN \"Evening\"\n",
    "           END AS start_hour_str\n",
    "FROM `bigquery-public-data.san_francisco.bikeshare_trips`\n",
    "ORDER BY start_date ASC"
   ]
  },
  {
   "cell_type": "markdown",
   "metadata": {},
   "source": [
    "### Saved table: bike_trip_data.trip_subscriber_month_year"
   ]
  },
  {
   "cell_type": "code",
   "execution_count": null,
   "metadata": {},
   "outputs": [],
   "source": [
    "SELECT trip_id, subscriber_type, start_date,\n",
    "       EXTRACT(MONTH FROM start_date) AS month_int,\n",
    "       CASE EXTRACT(MONTH FROM start_date)\n",
    "           WHEN 01 THEN \"January\"\n",
    "           WHEN 02 THEN \"February\"\n",
    "           WHEN 03 THEN \"March\"\n",
    "           WHEN 04 THEN \"April\"\n",
    "           WHEN 05 THEN \"May\"\n",
    "           WHEN 06 THEN \"June\"\n",
    "           WHEN 07 THEN \"July\"\n",
    "           WHEN 08 THEN \"August\"\n",
    "           WHEN 09 THEN \"September\"\n",
    "           WHEN 10 THEN \"October\"\n",
    "           WHEN 11 THEN \"November\"\n",
    "           WHEN 12 THEN \"December\"\n",
    "           END AS month_str,\n",
    "       EXTRACT(YEAR FROM start_date) as year\n",
    "FROM `bigquery-public-data.san_francisco.bikeshare_trips`\n",
    "ORDER BY start_date ASC"
   ]
  },
  {
   "cell_type": "markdown",
   "metadata": {},
   "source": [
    "### Saved view: duration_sec_min"
   ]
  },
  {
   "cell_type": "code",
   "execution_count": null,
   "metadata": {},
   "outputs": [],
   "source": [
    "SELECT trip_id, duration_sec,\n",
    "  CAST(ROUND(duration_sec / 60.0) AS INT64) AS duration_minutes,\n",
    "FROM `bigquery-public-data.san_francisco.bikeshare_trips`"
   ]
  },
  {
   "cell_type": "markdown",
   "metadata": {},
   "source": [
    "### Saved view: bike_trip_data.station_status_no87"
   ]
  },
  {
   "cell_type": "code",
   "execution_count": null,
   "metadata": {},
   "outputs": [],
   "source": [
    "  SELECT *\n",
    "  FROM `bike_trip_data.station_status_datetime`\n",
    "  where not station_id = 87 #Save as view \"bike_trip_data.station_status_no87\""
   ]
  },
  {
   "cell_type": "markdown",
   "metadata": {},
   "source": [
    "### Saved view: bike_trip_data.station_status_availability"
   ]
  },
  {
   "cell_type": "code",
   "execution_count": null,
   "metadata": {},
   "outputs": [],
   "source": [
    "  SELECT *, (bikes_available + docks_available) as total_bikes_available\n",
    "  FROM `bike_trip_data.station_status_no87`\n",
    "  order by total_bikes_available, station_id #Save as table \"bike_trip_data.station_status_availability\""
   ]
  },
  {
   "cell_type": "markdown",
   "metadata": {},
   "source": [
    "### Saved view: bike_trip_data.lowest5_available_wkday"
   ]
  },
  {
   "cell_type": "code",
   "execution_count": null,
   "metadata": {},
   "outputs": [],
   "source": [
    "  SELECT station_id, count(*) as num_times_scarce\n",
    "  FROM `bike_trip_data.station_status_availability`\n",
    "  WHERE dow_weekday = 'Weekday' and total_bikes_available <= 4\n",
    "  GROUP BY station_id\n",
    "  ORDER BY num_times_scarce desc, station_id\n",
    "  LIMIT 5 #Save as view \"bike_trip_data.lowest5_available_wkday\""
   ]
  },
  {
   "cell_type": "markdown",
   "metadata": {},
   "source": [
    "### Saved view: bike_trip_data.lowest5_available_wkend"
   ]
  },
  {
   "cell_type": "code",
   "execution_count": null,
   "metadata": {},
   "outputs": [],
   "source": [
    "  SELECT station_id, count(*) as num_times_scarce\n",
    "  FROM `bike_trip_data.station_status_availability`\n",
    "  WHERE dow_weekday = 'Weekend' and total_bikes_available <= 4\n",
    "  GROUP BY station_id\n",
    "  ORDER BY num_times_scarce desc, station_id\n",
    "  LIMIT 5 #Save as view \"bike_trip_data.lowest5_available_wkend\""
   ]
  },
  {
   "cell_type": "markdown",
   "metadata": {},
   "source": [
    "### Saved view: bike_trip_data.station_wkday_high_availability"
   ]
  },
  {
   "cell_type": "code",
   "execution_count": null,
   "metadata": {},
   "outputs": [],
   "source": [
    "  SELECT station_id, count(*) as num_times_plenty\n",
    "  FROM `bike_trip_data.station_status_availability`\n",
    "  where dow_weekday = 'Weekday' and total_bikes_available >= 20\n",
    "  group by station_id\n",
    "  order by num_times_plenty desc, station_id"
   ]
  },
  {
   "cell_type": "markdown",
   "metadata": {},
   "source": [
    "### Saved view: bike_trip_data.station_wkend_high_availability"
   ]
  },
  {
   "cell_type": "code",
   "execution_count": null,
   "metadata": {},
   "outputs": [],
   "source": [
    "  SELECT station_id, count(*) as num_times_plenty\n",
    "  FROM `bike_trip_data.station_status_availability`\n",
    "  where dow_weekday = 'Weekend' and total_bikes_available >= 20\n",
    "  group by station_id\n",
    "  order by num_times_plenty desc, station_id"
   ]
  }
 ],
 "metadata": {
  "environment": {
   "name": "tf2-2-3-gpu.2-3.m55",
   "type": "gcloud",
   "uri": "gcr.io/deeplearning-platform-release/tf2-2-3-gpu.2-3:m55"
  },
  "kernelspec": {
   "display_name": "Python 3",
   "language": "python",
   "name": "python3"
  },
  "language_info": {
   "codemirror_mode": {
    "name": "ipython",
    "version": 3
   },
   "file_extension": ".py",
   "mimetype": "text/x-python",
   "name": "python",
   "nbconvert_exporter": "python",
   "pygments_lexer": "ipython3",
   "version": "3.7.8"
  }
 },
 "nbformat": 4,
 "nbformat_minor": 4
}
